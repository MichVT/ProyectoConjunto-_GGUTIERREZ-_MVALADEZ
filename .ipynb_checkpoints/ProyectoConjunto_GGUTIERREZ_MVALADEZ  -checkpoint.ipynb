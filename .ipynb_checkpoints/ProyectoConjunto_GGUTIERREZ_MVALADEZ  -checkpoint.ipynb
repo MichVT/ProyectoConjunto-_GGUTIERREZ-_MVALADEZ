{
 "cells": [
  {
   "cell_type": "markdown",
   "metadata": {},
   "source": [
    "<img style=\"float: left; margin: 30px 15px 15px 15px;\" src=\"https://pngimage.net/wp-content/uploads/2018/06/logo-iteso-png-5.png\" width=\"300\" height=\"500\" /> \n",
    "    \n",
    "    \n",
    "### <font color='navy'> Simulación de procesos financieros. \n",
    "\n",
    "**Nombres:** Gerardo Gutierrez y Michelle Valadez\n",
    "\n",
    "**Fecha:** 31 de enero del 2023.\n",
    "\n",
    "**Expediente** : 729878 | 734547.\n",
    "**Profesor:** Oscar David Jaramillo Zuluaga.\n",
    "    \n",
    "**Link Github**:https://github.com/gerardogtze/ProyectoConjunto-_GGUTIERREZ-_MVALADEZ.git\n",
    "\n",
    "# Tarea 1: Clase 2"
   ]
  },
  {
   "cell_type": "markdown",
   "metadata": {},
   "source": [
    "## Git\n",
    "> Tarea donde comenzamos a emplear recursos Markdown"
   ]
  },
  {
   "cell_type": "markdown",
   "metadata": {},
   "source": [
    "### Presentación Estudiante 1\n",
    "\n",
    "Hola me llamo Gerardo Gutierrez, como todos en esta materia estudio ingenieria financiera, voy mas o menos en septimo semestre, lo que espero en este curso mas que aprender sobre simulación de procesos financieros es mejor mis habilidades para programar en python y aprender a usar git correctamente para usarlo en un futuro en la vida real."
   ]
  },
  {
   "cell_type": "markdown",
   "metadata": {},
   "source": [
    "### Presentación Estudiante 2\n",
    "\n",
    "Hola soy Michelle Valadez, curso el 6to semestre de ingeniería financiera, incialmente no conocia sobre la materia, una vez visto los temas que se abarcaran en el curso, espero tener herramientas para poder realizar diversos procesos y que su implementación a la hora de progamar sea la más óptima posible."
   ]
  },
  {
   "cell_type": "markdown",
   "metadata": {},
   "source": [
    "### Ejercicio 1: (enunciado) Transcribirlo"
   ]
  },
  {
   "cell_type": "markdown",
   "metadata": {},
   "source": [
    "Código de solución estudiante 1\n",
    "\n",
    "| _i_ | _x_  | _f(x)_ |\n",
    "|-----|------|--------|\n",
    "| 0   | -1   | 0.3678 |\n",
    "| 1   | -0.5 | 0.7788 |\n",
    "| 2   | 0    | 1      |\n",
    "| 3   | 0.5  | 0.7788 |\n",
    "| 4   | 1    | 0.3678 |\n",
    "\n",
    "<div style=\"text-align: center;\">\n",
    "    <span style=\"font-family:Times New Roman;font-size:18px; text-align: center;\">Cuadro 1: Tabla de valores de f(x)<span>\n",
    "        <div>\n",
    "    \n",
    "<br>\n",
    "  <br>          \n",
    "$$\n",
    "\\int_{-1}^{1}e^{-x^{2}}dx\\approx \\frac{0,5}{3}[f(-1)+f(1)+ 4(\\color{red}f \\color{red}(\\color{red}-\\color{red}0\\color{red},\\color{red}5\\color{red})\\color{red}+\\color{red}f\\color{red}(\\color{red}0\\color{red},\\color{red}5\\color{red}))+2 \\color{blue}f\\color{blue}(\\color{blue}0\\color{blue})]\n",
    "\\newline \\approx \\frac{0,5}{3}[0,3678+0,3678+4(\\color{red}0\\color{red},\\color{red}7\\color{red}7\\color{red}8\\color{red}8\\color{red}+\\color{red}0\\color{red},\\color{red}7\\color{red}7\\color{red}8\\color{red}8)+2\\cdot \\color{blue} 1]\\approx 1,4943\n",
    "$$\n",
    "<br>\n",
    "   <span style=\"font-family:Times New Roman;font-size:18px;text-align:left\"> A modo de verificacion, se calculará por software, el valor del área para n=100, un valor mucho más elevado al que se utilizó anteriormente. Si lo calculado previamente es correcto, se esperaría que sea próximo al valor presentado a continuación para ser una buena aproximación. <span>\n",
    "              <br>\n",
    "       <br>\n",
    "\n",
    "\n",
    "$$\n",
    "\\int_{-1}^{1}e^{-x^{2}}dx\\approx 1,4936\n",
    "$$"
   ]
  },
  {
   "cell_type": "markdown",
   "metadata": {},
   "source": [
    "Código de solución estudiante 2"
   ]
  },
  {
   "cell_type": "markdown",
   "metadata": {},
   "source": [
    "| $i$                 | 1   | 2   | 3   | 4   | 5 | 6 | 7  |\n",
    "|-------------------|-----|-----|-----|-----|---|---|----|\n",
    "| $$E_{i}(V)$$      |  12 | 10  | 24  | 12  | - | - | -  |\n",
    "| $$r_{i}(\\Omega)$$ | 0.1 | 0.5 | 0.2 | 0.5 | - | - | -  |\n",
    "| $$R_{i}(\\Omega)$$ | 25  | 40  | 16  | 20  | 9 | 4 | 20 |\n",
    "\n",
    "\n",
    "\n",
    "   <span style=\"font-family:Times New Roman;font-size:18px;text-align:left\"><font color='#2acaea'>Kemma y Vorts (1990)</font> muestras que las opciones asiáticas con media geomética continua se pueden valuar on el mismo enfoque de las opciones $plain$ $vanilla$; solo se deben cambiar losparámetros de volatilidad $\\sigma$ por $\\sigma_{a}$, y el costo de acarreo $b$ por $b_{A}$.\n",
    "<p> <span style=\"font-family:Times New Roman;font-size:18px;text-align:left\">De acuerdo con Kemma y Vorst, las fórmulas para valuar una opción de compra y una opción de venta son:\n",
    "   \n",
    " $c \\approx S_{t}e^{(b_{A-r})(T-t)}\\phi(d_{1})-Ke^{-r(T-t)}\\phi(d_{2})$,\n",
    " \n",
    " $p \\approx Ke^{-r(T-t)}\\phi(-d_{2}- )S_{t}e^{(b_{A-r})(T-t)}\\phi(d_{1})$.\n",
    " \n",
    "\n",
    "  <span style=\"font-family:Times New Roman;font-size:18px;text-align:left\"> con $d_{1}$ y $d_{2}$ dados por:\n",
    "   \n",
    "   $d_{1} = \\frac{\\ln(S_{t}/K)+(b_{A}+1/2\\sigma^{2}_{a})(T-t)}{\\sigma\\sqrt{T-t}}$\n",
    "    \n",
    "   $d_{2} = d_{1}-\\sigma_{a}\\sqrt{T-t}$.\n",
    "   \n",
    "  <span style=\"font-family:Times New Roman;font-size:18px;text-align:left\"> La función $\\phi(d)$ es la función de distribución acumulada de $E\\sim N (0,1)$. La volatilidad ajustada es igual a:\n",
    "  \n",
    "  $b_{a} =  \\frac{\\sigma}{\\sqrt{3}}$\n",
    "  \n",
    "  <span style=\"font-family:Times New Roman;font-size:18px;text-align:left\"> mientras que el costo de acarreo ajustado es:\n",
    "  \n",
    "   $b_{A} = \\frac{1}{2}(v- \\frac{\\sigma^{2}}{6})$.\n"
   ]
  },
  {
   "cell_type": "markdown",
   "metadata": {},
   "source": [
    "### Ejercicio 2: Programa"
   ]
  },
  {
   "cell_type": "markdown",
   "metadata": {},
   "source": [
    "Código de solución estudiante 1"
   ]
  },
  {
   "cell_type": "markdown",
   "metadata": {},
   "source": [
    "#### Código de solución estudiante 2"
   ]
  },
  {
   "cell_type": "markdown",
   "metadata": {},
   "source": [
    "Descripción: Generar un programa que muestre los números primos del 0-100"
   ]
  }
 ],
 "metadata": {
  "kernelspec": {
   "display_name": "Python 3",
   "language": "python",
   "name": "python3"
  },
  "language_info": {
   "codemirror_mode": {
    "name": "ipython",
    "version": 3
   },
   "file_extension": ".py",
   "mimetype": "text/x-python",
   "name": "python",
   "nbconvert_exporter": "python",
   "pygments_lexer": "ipython3",
   "version": "3.8.8"
  }
 },
 "nbformat": 4,
 "nbformat_minor": 4
}
